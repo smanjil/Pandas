{
 "cells": [
  {
   "cell_type": "code",
   "execution_count": 1,
   "metadata": {
    "collapsed": true
   },
   "outputs": [],
   "source": [
    "import pandas as pd\n",
    "import numpy as np"
   ]
  },
  {
   "cell_type": "code",
   "execution_count": 2,
   "metadata": {
    "collapsed": true
   },
   "outputs": [],
   "source": [
    "pd.set_option('display.max_rows', 10)"
   ]
  },
  {
   "cell_type": "code",
   "execution_count": 3,
   "metadata": {
    "collapsed": false
   },
   "outputs": [
    {
     "name": "stdout",
     "output_type": "stream",
     "text": [
      "Populating the interactive namespace from numpy and matplotlib\n"
     ]
    }
   ],
   "source": [
    "%pylab inline"
   ]
  },
  {
   "cell_type": "code",
   "execution_count": 4,
   "metadata": {
    "collapsed": true
   },
   "outputs": [],
   "source": [
    "auto = pd.read_csv('data/auto.csv')"
   ]
  },
  {
   "cell_type": "code",
   "execution_count": 5,
   "metadata": {
    "collapsed": false
   },
   "outputs": [
    {
     "data": {
      "text/html": [
       "<div>\n",
       "<table border=\"1\" class=\"dataframe\">\n",
       "  <thead>\n",
       "    <tr style=\"text-align: right;\">\n",
       "      <th></th>\n",
       "      <th>make</th>\n",
       "      <th>price</th>\n",
       "      <th>mpg</th>\n",
       "      <th>repairs</th>\n",
       "      <th>weight</th>\n",
       "      <th>length</th>\n",
       "      <th>foreign</th>\n",
       "    </tr>\n",
       "  </thead>\n",
       "  <tbody>\n",
       "    <tr>\n",
       "      <th>0</th>\n",
       "      <td>AMC</td>\n",
       "      <td>4099</td>\n",
       "      <td>22</td>\n",
       "      <td>3</td>\n",
       "      <td>2930</td>\n",
       "      <td>186</td>\n",
       "      <td>0</td>\n",
       "    </tr>\n",
       "    <tr>\n",
       "      <th>1</th>\n",
       "      <td>AMC</td>\n",
       "      <td>4749</td>\n",
       "      <td>17</td>\n",
       "      <td>3</td>\n",
       "      <td>3350</td>\n",
       "      <td>173</td>\n",
       "      <td>0</td>\n",
       "    </tr>\n",
       "    <tr>\n",
       "      <th>2</th>\n",
       "      <td>AMC</td>\n",
       "      <td>3799</td>\n",
       "      <td>22</td>\n",
       "      <td>3</td>\n",
       "      <td>2640</td>\n",
       "      <td>168</td>\n",
       "      <td>0</td>\n",
       "    </tr>\n",
       "    <tr>\n",
       "      <th>3</th>\n",
       "      <td>Audi</td>\n",
       "      <td>9690</td>\n",
       "      <td>17</td>\n",
       "      <td>5</td>\n",
       "      <td>2830</td>\n",
       "      <td>189</td>\n",
       "      <td>1</td>\n",
       "    </tr>\n",
       "    <tr>\n",
       "      <th>4</th>\n",
       "      <td>Audi</td>\n",
       "      <td>6295</td>\n",
       "      <td>23</td>\n",
       "      <td>3</td>\n",
       "      <td>2070</td>\n",
       "      <td>174</td>\n",
       "      <td>1</td>\n",
       "    </tr>\n",
       "  </tbody>\n",
       "</table>\n",
       "</div>"
      ],
      "text/plain": [
       "   make  price  mpg  repairs  weight  length  foreign\n",
       "0   AMC   4099   22        3    2930     186        0\n",
       "1   AMC   4749   17        3    3350     173        0\n",
       "2   AMC   3799   22        3    2640     168        0\n",
       "3  Audi   9690   17        5    2830     189        1\n",
       "4  Audi   6295   23        3    2070     174        1"
      ]
     },
     "execution_count": 5,
     "metadata": {},
     "output_type": "execute_result"
    }
   ],
   "source": [
    "auto.head()"
   ]
  },
  {
   "cell_type": "markdown",
   "metadata": {},
   "source": [
    "\n",
    "# apply filters"
   ]
  },
  {
   "cell_type": "code",
   "execution_count": 7,
   "metadata": {
    "collapsed": false
   },
   "outputs": [
    {
     "data": {
      "text/plain": [
       "0     False\n",
       "1     False\n",
       "2     False\n",
       "3      True\n",
       "4      True\n",
       "      ...  \n",
       "21    False\n",
       "22     True\n",
       "23     True\n",
       "24     True\n",
       "25     True\n",
       "Name: foreign, dtype: bool"
      ]
     },
     "execution_count": 7,
     "metadata": {},
     "output_type": "execute_result"
    }
   ],
   "source": [
    "# search in column \"foreign\" for value equal to 1\n",
    "auto.foreign == 1"
   ]
  },
  {
   "cell_type": "code",
   "execution_count": 8,
   "metadata": {
    "collapsed": false
   },
   "outputs": [
    {
     "data": {
      "text/plain": [
       "0     False\n",
       "1     False\n",
       "2     False\n",
       "3      True\n",
       "4      True\n",
       "      ...  \n",
       "21    False\n",
       "22     True\n",
       "23     True\n",
       "24     True\n",
       "25     True\n",
       "Name: foreign, dtype: bool"
      ]
     },
     "execution_count": 8,
     "metadata": {},
     "output_type": "execute_result"
    }
   ],
   "source": [
    "# set variable \"mask\" to the search filter\n",
    "mask = auto.foreign == 1\n",
    "mask"
   ]
  },
  {
   "cell_type": "code",
   "execution_count": 9,
   "metadata": {
    "collapsed": false
   },
   "outputs": [
    {
     "data": {
      "text/html": [
       "<div>\n",
       "<table border=\"1\" class=\"dataframe\">\n",
       "  <thead>\n",
       "    <tr style=\"text-align: right;\">\n",
       "      <th></th>\n",
       "      <th>make</th>\n",
       "      <th>price</th>\n",
       "      <th>mpg</th>\n",
       "      <th>repairs</th>\n",
       "      <th>weight</th>\n",
       "      <th>length</th>\n",
       "      <th>foreign</th>\n",
       "    </tr>\n",
       "  </thead>\n",
       "  <tbody>\n",
       "    <tr>\n",
       "      <th>3</th>\n",
       "      <td>Audi</td>\n",
       "      <td>9690</td>\n",
       "      <td>17</td>\n",
       "      <td>5</td>\n",
       "      <td>2830</td>\n",
       "      <td>189</td>\n",
       "      <td>1</td>\n",
       "    </tr>\n",
       "    <tr>\n",
       "      <th>4</th>\n",
       "      <td>Audi</td>\n",
       "      <td>6295</td>\n",
       "      <td>23</td>\n",
       "      <td>3</td>\n",
       "      <td>2070</td>\n",
       "      <td>174</td>\n",
       "      <td>1</td>\n",
       "    </tr>\n",
       "    <tr>\n",
       "      <th>5</th>\n",
       "      <td>BMW</td>\n",
       "      <td>9735</td>\n",
       "      <td>25</td>\n",
       "      <td>4</td>\n",
       "      <td>2650</td>\n",
       "      <td>177</td>\n",
       "      <td>1</td>\n",
       "    </tr>\n",
       "    <tr>\n",
       "      <th>22</th>\n",
       "      <td>Datsun</td>\n",
       "      <td>6229</td>\n",
       "      <td>23</td>\n",
       "      <td>4</td>\n",
       "      <td>2370</td>\n",
       "      <td>170</td>\n",
       "      <td>1</td>\n",
       "    </tr>\n",
       "    <tr>\n",
       "      <th>23</th>\n",
       "      <td>Datsun</td>\n",
       "      <td>4589</td>\n",
       "      <td>35</td>\n",
       "      <td>5</td>\n",
       "      <td>2020</td>\n",
       "      <td>165</td>\n",
       "      <td>1</td>\n",
       "    </tr>\n",
       "    <tr>\n",
       "      <th>24</th>\n",
       "      <td>Datsun</td>\n",
       "      <td>5079</td>\n",
       "      <td>24</td>\n",
       "      <td>4</td>\n",
       "      <td>2280</td>\n",
       "      <td>170</td>\n",
       "      <td>1</td>\n",
       "    </tr>\n",
       "    <tr>\n",
       "      <th>25</th>\n",
       "      <td>Datsun</td>\n",
       "      <td>8129</td>\n",
       "      <td>21</td>\n",
       "      <td>4</td>\n",
       "      <td>2750</td>\n",
       "      <td>184</td>\n",
       "      <td>1</td>\n",
       "    </tr>\n",
       "  </tbody>\n",
       "</table>\n",
       "</div>"
      ],
      "text/plain": [
       "      make  price  mpg  repairs  weight  length  foreign\n",
       "3     Audi   9690   17        5    2830     189        1\n",
       "4     Audi   6295   23        3    2070     174        1\n",
       "5      BMW   9735   25        4    2650     177        1\n",
       "22  Datsun   6229   23        4    2370     170        1\n",
       "23  Datsun   4589   35        5    2020     165        1\n",
       "24  Datsun   5079   24        4    2280     170        1\n",
       "25  Datsun   8129   21        4    2750     184        1"
      ]
     },
     "execution_count": 9,
     "metadata": {},
     "output_type": "execute_result"
    }
   ],
   "source": [
    "# apply the filter to the dataset\n",
    "auto[mask]"
   ]
  },
  {
   "cell_type": "code",
   "execution_count": 10,
   "metadata": {
    "collapsed": false
   },
   "outputs": [
    {
     "data": {
      "text/html": [
       "<div>\n",
       "<table border=\"1\" class=\"dataframe\">\n",
       "  <thead>\n",
       "    <tr style=\"text-align: right;\">\n",
       "      <th></th>\n",
       "      <th>make</th>\n",
       "      <th>price</th>\n",
       "      <th>mpg</th>\n",
       "      <th>repairs</th>\n",
       "      <th>weight</th>\n",
       "      <th>length</th>\n",
       "      <th>foreign</th>\n",
       "    </tr>\n",
       "  </thead>\n",
       "  <tbody>\n",
       "    <tr>\n",
       "      <th>3</th>\n",
       "      <td>Audi</td>\n",
       "      <td>9690</td>\n",
       "      <td>17</td>\n",
       "      <td>5</td>\n",
       "      <td>2830</td>\n",
       "      <td>189</td>\n",
       "      <td>1</td>\n",
       "    </tr>\n",
       "    <tr>\n",
       "      <th>4</th>\n",
       "      <td>Audi</td>\n",
       "      <td>6295</td>\n",
       "      <td>23</td>\n",
       "      <td>3</td>\n",
       "      <td>2070</td>\n",
       "      <td>174</td>\n",
       "      <td>1</td>\n",
       "    </tr>\n",
       "    <tr>\n",
       "      <th>5</th>\n",
       "      <td>BMW</td>\n",
       "      <td>9735</td>\n",
       "      <td>25</td>\n",
       "      <td>4</td>\n",
       "      <td>2650</td>\n",
       "      <td>177</td>\n",
       "      <td>1</td>\n",
       "    </tr>\n",
       "    <tr>\n",
       "      <th>22</th>\n",
       "      <td>Datsun</td>\n",
       "      <td>6229</td>\n",
       "      <td>23</td>\n",
       "      <td>4</td>\n",
       "      <td>2370</td>\n",
       "      <td>170</td>\n",
       "      <td>1</td>\n",
       "    </tr>\n",
       "    <tr>\n",
       "      <th>23</th>\n",
       "      <td>Datsun</td>\n",
       "      <td>4589</td>\n",
       "      <td>35</td>\n",
       "      <td>5</td>\n",
       "      <td>2020</td>\n",
       "      <td>165</td>\n",
       "      <td>1</td>\n",
       "    </tr>\n",
       "  </tbody>\n",
       "</table>\n",
       "</div>"
      ],
      "text/plain": [
       "      make  price  mpg  repairs  weight  length  foreign\n",
       "3     Audi   9690   17        5    2830     189        1\n",
       "4     Audi   6295   23        3    2070     174        1\n",
       "5      BMW   9735   25        4    2650     177        1\n",
       "22  Datsun   6229   23        4    2370     170        1\n",
       "23  Datsun   4589   35        5    2020     165        1"
      ]
     },
     "execution_count": 10,
     "metadata": {},
     "output_type": "execute_result"
    }
   ],
   "source": [
    "# create a new dataframe (subset of original)\n",
    "foreign = auto[mask]\n",
    "foreign.head()"
   ]
  },
  {
   "cell_type": "code",
   "execution_count": 11,
   "metadata": {
    "collapsed": false
   },
   "outputs": [
    {
     "data": {
      "text/html": [
       "<div>\n",
       "<table border=\"1\" class=\"dataframe\">\n",
       "  <thead>\n",
       "    <tr style=\"text-align: right;\">\n",
       "      <th></th>\n",
       "      <th>make</th>\n",
       "      <th>price</th>\n",
       "      <th>mpg</th>\n",
       "      <th>repairs</th>\n",
       "      <th>weight</th>\n",
       "      <th>length</th>\n",
       "      <th>foreign</th>\n",
       "    </tr>\n",
       "  </thead>\n",
       "  <tbody>\n",
       "    <tr>\n",
       "      <th>0</th>\n",
       "      <td>AMC</td>\n",
       "      <td>4099</td>\n",
       "      <td>22</td>\n",
       "      <td>3</td>\n",
       "      <td>2930</td>\n",
       "      <td>186</td>\n",
       "      <td>0</td>\n",
       "    </tr>\n",
       "    <tr>\n",
       "      <th>1</th>\n",
       "      <td>AMC</td>\n",
       "      <td>4749</td>\n",
       "      <td>17</td>\n",
       "      <td>3</td>\n",
       "      <td>3350</td>\n",
       "      <td>173</td>\n",
       "      <td>0</td>\n",
       "    </tr>\n",
       "    <tr>\n",
       "      <th>2</th>\n",
       "      <td>AMC</td>\n",
       "      <td>3799</td>\n",
       "      <td>22</td>\n",
       "      <td>3</td>\n",
       "      <td>2640</td>\n",
       "      <td>168</td>\n",
       "      <td>0</td>\n",
       "    </tr>\n",
       "    <tr>\n",
       "      <th>6</th>\n",
       "      <td>Buick</td>\n",
       "      <td>4816</td>\n",
       "      <td>20</td>\n",
       "      <td>3</td>\n",
       "      <td>3250</td>\n",
       "      <td>196</td>\n",
       "      <td>0</td>\n",
       "    </tr>\n",
       "    <tr>\n",
       "      <th>7</th>\n",
       "      <td>Buick</td>\n",
       "      <td>7827</td>\n",
       "      <td>15</td>\n",
       "      <td>4</td>\n",
       "      <td>4080</td>\n",
       "      <td>222</td>\n",
       "      <td>0</td>\n",
       "    </tr>\n",
       "  </tbody>\n",
       "</table>\n",
       "</div>"
      ],
      "text/plain": [
       "    make  price  mpg  repairs  weight  length  foreign\n",
       "0    AMC   4099   22        3    2930     186        0\n",
       "1    AMC   4749   17        3    3350     173        0\n",
       "2    AMC   3799   22        3    2640     168        0\n",
       "6  Buick   4816   20        3    3250     196        0\n",
       "7  Buick   7827   15        4    4080     222        0"
      ]
     },
     "execution_count": 11,
     "metadata": {},
     "output_type": "execute_result"
    }
   ],
   "source": [
    "# apply inverse filter\n",
    "domestic = auto[np.invert(mask)]\n",
    "domestic.head()"
   ]
  },
  {
   "cell_type": "code",
   "execution_count": 13,
   "metadata": {
    "collapsed": false
   },
   "outputs": [
    {
     "data": {
      "text/html": [
       "<div>\n",
       "<table border=\"1\" class=\"dataframe\">\n",
       "  <thead>\n",
       "    <tr style=\"text-align: right;\">\n",
       "      <th></th>\n",
       "      <th>make</th>\n",
       "      <th>price</th>\n",
       "      <th>mpg</th>\n",
       "      <th>repairs</th>\n",
       "      <th>weight</th>\n",
       "      <th>length</th>\n",
       "      <th>foreign</th>\n",
       "    </tr>\n",
       "  </thead>\n",
       "  <tbody>\n",
       "    <tr>\n",
       "      <th>0</th>\n",
       "      <td>AMC</td>\n",
       "      <td>4099</td>\n",
       "      <td>22</td>\n",
       "      <td>3</td>\n",
       "      <td>2930</td>\n",
       "      <td>186</td>\n",
       "      <td>0</td>\n",
       "    </tr>\n",
       "    <tr>\n",
       "      <th>2</th>\n",
       "      <td>AMC</td>\n",
       "      <td>3799</td>\n",
       "      <td>22</td>\n",
       "      <td>3</td>\n",
       "      <td>2640</td>\n",
       "      <td>168</td>\n",
       "      <td>0</td>\n",
       "    </tr>\n",
       "    <tr>\n",
       "      <th>9</th>\n",
       "      <td>Buick</td>\n",
       "      <td>4453</td>\n",
       "      <td>26</td>\n",
       "      <td>3</td>\n",
       "      <td>2230</td>\n",
       "      <td>170</td>\n",
       "      <td>0</td>\n",
       "    </tr>\n",
       "    <tr>\n",
       "      <th>16</th>\n",
       "      <td>Chevrolet</td>\n",
       "      <td>3299</td>\n",
       "      <td>29</td>\n",
       "      <td>3</td>\n",
       "      <td>2110</td>\n",
       "      <td>163</td>\n",
       "      <td>0</td>\n",
       "    </tr>\n",
       "    <tr>\n",
       "      <th>18</th>\n",
       "      <td>Chevrolet</td>\n",
       "      <td>4504</td>\n",
       "      <td>22</td>\n",
       "      <td>3</td>\n",
       "      <td>3180</td>\n",
       "      <td>193</td>\n",
       "      <td>0</td>\n",
       "    </tr>\n",
       "    <tr>\n",
       "      <th>20</th>\n",
       "      <td>Chevrolet</td>\n",
       "      <td>3667</td>\n",
       "      <td>24</td>\n",
       "      <td>2</td>\n",
       "      <td>2750</td>\n",
       "      <td>179</td>\n",
       "      <td>0</td>\n",
       "    </tr>\n",
       "    <tr>\n",
       "      <th>23</th>\n",
       "      <td>Datsun</td>\n",
       "      <td>4589</td>\n",
       "      <td>35</td>\n",
       "      <td>5</td>\n",
       "      <td>2020</td>\n",
       "      <td>165</td>\n",
       "      <td>1</td>\n",
       "    </tr>\n",
       "  </tbody>\n",
       "</table>\n",
       "</div>"
      ],
      "text/plain": [
       "         make  price  mpg  repairs  weight  length  foreign\n",
       "0         AMC   4099   22        3    2930     186        0\n",
       "2         AMC   3799   22        3    2640     168        0\n",
       "9       Buick   4453   26        3    2230     170        0\n",
       "16  Chevrolet   3299   29        3    2110     163        0\n",
       "18  Chevrolet   4504   22        3    3180     193        0\n",
       "20  Chevrolet   3667   24        2    2750     179        0\n",
       "23     Datsun   4589   35        5    2020     165        1"
      ]
     },
     "execution_count": 13,
     "metadata": {},
     "output_type": "execute_result"
    }
   ],
   "source": [
    "auto[((auto.mpg > 20) & (auto.price < 5000))]"
   ]
  },
  {
   "cell_type": "markdown",
   "metadata": {},
   "source": [
    "# practice using crime data set"
   ]
  },
  {
   "cell_type": "code",
   "execution_count": 14,
   "metadata": {
    "collapsed": true
   },
   "outputs": [],
   "source": [
    "# read data\n",
    "crime = pd.read_csv('data/crime.csv')"
   ]
  },
  {
   "cell_type": "code",
   "execution_count": 15,
   "metadata": {
    "collapsed": false
   },
   "outputs": [
    {
     "data": {
      "text/html": [
       "<div>\n",
       "<table border=\"1\" class=\"dataframe\">\n",
       "  <thead>\n",
       "    <tr style=\"text-align: right;\">\n",
       "      <th></th>\n",
       "      <th>State</th>\n",
       "      <th>Type of Crime</th>\n",
       "      <th>Crime</th>\n",
       "      <th>Year</th>\n",
       "      <th>Count</th>\n",
       "    </tr>\n",
       "  </thead>\n",
       "  <tbody>\n",
       "    <tr>\n",
       "      <th>0</th>\n",
       "      <td>Alabama</td>\n",
       "      <td>Violent Crime</td>\n",
       "      <td>Murder and nonnegligent Manslaughter</td>\n",
       "      <td>1960</td>\n",
       "      <td>406</td>\n",
       "    </tr>\n",
       "    <tr>\n",
       "      <th>1</th>\n",
       "      <td>Alabama</td>\n",
       "      <td>Violent Crime</td>\n",
       "      <td>Murder and nonnegligent Manslaughter</td>\n",
       "      <td>1961</td>\n",
       "      <td>427</td>\n",
       "    </tr>\n",
       "    <tr>\n",
       "      <th>2</th>\n",
       "      <td>Alabama</td>\n",
       "      <td>Violent Crime</td>\n",
       "      <td>Murder and nonnegligent Manslaughter</td>\n",
       "      <td>1962</td>\n",
       "      <td>316</td>\n",
       "    </tr>\n",
       "    <tr>\n",
       "      <th>3</th>\n",
       "      <td>Alabama</td>\n",
       "      <td>Violent Crime</td>\n",
       "      <td>Murder and nonnegligent Manslaughter</td>\n",
       "      <td>1963</td>\n",
       "      <td>340</td>\n",
       "    </tr>\n",
       "    <tr>\n",
       "      <th>4</th>\n",
       "      <td>Alabama</td>\n",
       "      <td>Violent Crime</td>\n",
       "      <td>Murder and nonnegligent Manslaughter</td>\n",
       "      <td>1964</td>\n",
       "      <td>316</td>\n",
       "    </tr>\n",
       "  </tbody>\n",
       "</table>\n",
       "</div>"
      ],
      "text/plain": [
       "     State  Type of Crime                                 Crime  Year  Count\n",
       "0  Alabama  Violent Crime  Murder and nonnegligent Manslaughter  1960    406\n",
       "1  Alabama  Violent Crime  Murder and nonnegligent Manslaughter  1961    427\n",
       "2  Alabama  Violent Crime  Murder and nonnegligent Manslaughter  1962    316\n",
       "3  Alabama  Violent Crime  Murder and nonnegligent Manslaughter  1963    340\n",
       "4  Alabama  Violent Crime  Murder and nonnegligent Manslaughter  1964    316"
      ]
     },
     "execution_count": 15,
     "metadata": {},
     "output_type": "execute_result"
    }
   ],
   "source": [
    "crime.head()"
   ]
  },
  {
   "cell_type": "code",
   "execution_count": 16,
   "metadata": {
    "collapsed": true
   },
   "outputs": [],
   "source": [
    "# set mask\n",
    "mask3 = ((crime.State=='California') & (crime.Crime=='Murder and nonnegligent Manslaughter'))"
   ]
  },
  {
   "cell_type": "code",
   "execution_count": 17,
   "metadata": {
    "collapsed": false
   },
   "outputs": [
    {
     "data": {
      "text/plain": [
       "0        False\n",
       "1        False\n",
       "2        False\n",
       "3        False\n",
       "4        False\n",
       "         ...  \n",
       "16417    False\n",
       "16418    False\n",
       "16419    False\n",
       "16420    False\n",
       "16421    False\n",
       "dtype: bool"
      ]
     },
     "execution_count": 17,
     "metadata": {},
     "output_type": "execute_result"
    }
   ],
   "source": [
    "mask3"
   ]
  },
  {
   "cell_type": "code",
   "execution_count": 18,
   "metadata": {
    "collapsed": false
   },
   "outputs": [
    {
     "data": {
      "text/html": [
       "<div>\n",
       "<table border=\"1\" class=\"dataframe\">\n",
       "  <thead>\n",
       "    <tr style=\"text-align: right;\">\n",
       "      <th></th>\n",
       "      <th>State</th>\n",
       "      <th>Type of Crime</th>\n",
       "      <th>Crime</th>\n",
       "      <th>Year</th>\n",
       "      <th>Count</th>\n",
       "    </tr>\n",
       "  </thead>\n",
       "  <tbody>\n",
       "    <tr>\n",
       "      <th>1288</th>\n",
       "      <td>California</td>\n",
       "      <td>Violent Crime</td>\n",
       "      <td>Murder and nonnegligent Manslaughter</td>\n",
       "      <td>1960</td>\n",
       "      <td>616</td>\n",
       "    </tr>\n",
       "    <tr>\n",
       "      <th>1289</th>\n",
       "      <td>California</td>\n",
       "      <td>Violent Crime</td>\n",
       "      <td>Murder and nonnegligent Manslaughter</td>\n",
       "      <td>1961</td>\n",
       "      <td>605</td>\n",
       "    </tr>\n",
       "    <tr>\n",
       "      <th>1290</th>\n",
       "      <td>California</td>\n",
       "      <td>Violent Crime</td>\n",
       "      <td>Murder and nonnegligent Manslaughter</td>\n",
       "      <td>1962</td>\n",
       "      <td>657</td>\n",
       "    </tr>\n",
       "    <tr>\n",
       "      <th>1291</th>\n",
       "      <td>California</td>\n",
       "      <td>Violent Crime</td>\n",
       "      <td>Murder and nonnegligent Manslaughter</td>\n",
       "      <td>1963</td>\n",
       "      <td>673</td>\n",
       "    </tr>\n",
       "    <tr>\n",
       "      <th>1292</th>\n",
       "      <td>California</td>\n",
       "      <td>Violent Crime</td>\n",
       "      <td>Murder and nonnegligent Manslaughter</td>\n",
       "      <td>1964</td>\n",
       "      <td>740</td>\n",
       "    </tr>\n",
       "    <tr>\n",
       "      <th>...</th>\n",
       "      <td>...</td>\n",
       "      <td>...</td>\n",
       "      <td>...</td>\n",
       "      <td>...</td>\n",
       "      <td>...</td>\n",
       "    </tr>\n",
       "    <tr>\n",
       "      <th>1329</th>\n",
       "      <td>California</td>\n",
       "      <td>Violent Crime</td>\n",
       "      <td>Murder and nonnegligent Manslaughter</td>\n",
       "      <td>2001</td>\n",
       "      <td>2206</td>\n",
       "    </tr>\n",
       "    <tr>\n",
       "      <th>1330</th>\n",
       "      <td>California</td>\n",
       "      <td>Violent Crime</td>\n",
       "      <td>Murder and nonnegligent Manslaughter</td>\n",
       "      <td>2002</td>\n",
       "      <td>2395</td>\n",
       "    </tr>\n",
       "    <tr>\n",
       "      <th>1331</th>\n",
       "      <td>California</td>\n",
       "      <td>Violent Crime</td>\n",
       "      <td>Murder and nonnegligent Manslaughter</td>\n",
       "      <td>2003</td>\n",
       "      <td>2407</td>\n",
       "    </tr>\n",
       "    <tr>\n",
       "      <th>1332</th>\n",
       "      <td>California</td>\n",
       "      <td>Violent Crime</td>\n",
       "      <td>Murder and nonnegligent Manslaughter</td>\n",
       "      <td>2004</td>\n",
       "      <td>2392</td>\n",
       "    </tr>\n",
       "    <tr>\n",
       "      <th>1333</th>\n",
       "      <td>California</td>\n",
       "      <td>Violent Crime</td>\n",
       "      <td>Murder and nonnegligent Manslaughter</td>\n",
       "      <td>2005</td>\n",
       "      <td>2503</td>\n",
       "    </tr>\n",
       "  </tbody>\n",
       "</table>\n",
       "<p>46 rows × 5 columns</p>\n",
       "</div>"
      ],
      "text/plain": [
       "           State  Type of Crime                                 Crime  Year  \\\n",
       "1288  California  Violent Crime  Murder and nonnegligent Manslaughter  1960   \n",
       "1289  California  Violent Crime  Murder and nonnegligent Manslaughter  1961   \n",
       "1290  California  Violent Crime  Murder and nonnegligent Manslaughter  1962   \n",
       "1291  California  Violent Crime  Murder and nonnegligent Manslaughter  1963   \n",
       "1292  California  Violent Crime  Murder and nonnegligent Manslaughter  1964   \n",
       "...          ...            ...                                   ...   ...   \n",
       "1329  California  Violent Crime  Murder and nonnegligent Manslaughter  2001   \n",
       "1330  California  Violent Crime  Murder and nonnegligent Manslaughter  2002   \n",
       "1331  California  Violent Crime  Murder and nonnegligent Manslaughter  2003   \n",
       "1332  California  Violent Crime  Murder and nonnegligent Manslaughter  2004   \n",
       "1333  California  Violent Crime  Murder and nonnegligent Manslaughter  2005   \n",
       "\n",
       "      Count  \n",
       "1288    616  \n",
       "1289    605  \n",
       "1290    657  \n",
       "1291    673  \n",
       "1292    740  \n",
       "...     ...  \n",
       "1329   2206  \n",
       "1330   2395  \n",
       "1331   2407  \n",
       "1332   2392  \n",
       "1333   2503  \n",
       "\n",
       "[46 rows x 5 columns]"
      ]
     },
     "execution_count": 18,
     "metadata": {},
     "output_type": "execute_result"
    }
   ],
   "source": [
    "crime[mask3]"
   ]
  },
  {
   "cell_type": "code",
   "execution_count": 19,
   "metadata": {
    "collapsed": true
   },
   "outputs": [],
   "source": [
    "# apply mask or filter\n",
    "cal_murder = crime[mask3]"
   ]
  },
  {
   "cell_type": "code",
   "execution_count": 20,
   "metadata": {
    "collapsed": false
   },
   "outputs": [
    {
     "data": {
      "text/html": [
       "<div>\n",
       "<table border=\"1\" class=\"dataframe\">\n",
       "  <thead>\n",
       "    <tr style=\"text-align: right;\">\n",
       "      <th></th>\n",
       "      <th>State</th>\n",
       "      <th>Type of Crime</th>\n",
       "      <th>Crime</th>\n",
       "      <th>Year</th>\n",
       "      <th>Count</th>\n",
       "    </tr>\n",
       "  </thead>\n",
       "  <tbody>\n",
       "    <tr>\n",
       "      <th>1288</th>\n",
       "      <td>California</td>\n",
       "      <td>Violent Crime</td>\n",
       "      <td>Murder and nonnegligent Manslaughter</td>\n",
       "      <td>1960</td>\n",
       "      <td>616</td>\n",
       "    </tr>\n",
       "    <tr>\n",
       "      <th>1289</th>\n",
       "      <td>California</td>\n",
       "      <td>Violent Crime</td>\n",
       "      <td>Murder and nonnegligent Manslaughter</td>\n",
       "      <td>1961</td>\n",
       "      <td>605</td>\n",
       "    </tr>\n",
       "    <tr>\n",
       "      <th>1290</th>\n",
       "      <td>California</td>\n",
       "      <td>Violent Crime</td>\n",
       "      <td>Murder and nonnegligent Manslaughter</td>\n",
       "      <td>1962</td>\n",
       "      <td>657</td>\n",
       "    </tr>\n",
       "    <tr>\n",
       "      <th>1291</th>\n",
       "      <td>California</td>\n",
       "      <td>Violent Crime</td>\n",
       "      <td>Murder and nonnegligent Manslaughter</td>\n",
       "      <td>1963</td>\n",
       "      <td>673</td>\n",
       "    </tr>\n",
       "    <tr>\n",
       "      <th>1292</th>\n",
       "      <td>California</td>\n",
       "      <td>Violent Crime</td>\n",
       "      <td>Murder and nonnegligent Manslaughter</td>\n",
       "      <td>1964</td>\n",
       "      <td>740</td>\n",
       "    </tr>\n",
       "    <tr>\n",
       "      <th>...</th>\n",
       "      <td>...</td>\n",
       "      <td>...</td>\n",
       "      <td>...</td>\n",
       "      <td>...</td>\n",
       "      <td>...</td>\n",
       "    </tr>\n",
       "    <tr>\n",
       "      <th>1329</th>\n",
       "      <td>California</td>\n",
       "      <td>Violent Crime</td>\n",
       "      <td>Murder and nonnegligent Manslaughter</td>\n",
       "      <td>2001</td>\n",
       "      <td>2206</td>\n",
       "    </tr>\n",
       "    <tr>\n",
       "      <th>1330</th>\n",
       "      <td>California</td>\n",
       "      <td>Violent Crime</td>\n",
       "      <td>Murder and nonnegligent Manslaughter</td>\n",
       "      <td>2002</td>\n",
       "      <td>2395</td>\n",
       "    </tr>\n",
       "    <tr>\n",
       "      <th>1331</th>\n",
       "      <td>California</td>\n",
       "      <td>Violent Crime</td>\n",
       "      <td>Murder and nonnegligent Manslaughter</td>\n",
       "      <td>2003</td>\n",
       "      <td>2407</td>\n",
       "    </tr>\n",
       "    <tr>\n",
       "      <th>1332</th>\n",
       "      <td>California</td>\n",
       "      <td>Violent Crime</td>\n",
       "      <td>Murder and nonnegligent Manslaughter</td>\n",
       "      <td>2004</td>\n",
       "      <td>2392</td>\n",
       "    </tr>\n",
       "    <tr>\n",
       "      <th>1333</th>\n",
       "      <td>California</td>\n",
       "      <td>Violent Crime</td>\n",
       "      <td>Murder and nonnegligent Manslaughter</td>\n",
       "      <td>2005</td>\n",
       "      <td>2503</td>\n",
       "    </tr>\n",
       "  </tbody>\n",
       "</table>\n",
       "<p>46 rows × 5 columns</p>\n",
       "</div>"
      ],
      "text/plain": [
       "           State  Type of Crime                                 Crime  Year  \\\n",
       "1288  California  Violent Crime  Murder and nonnegligent Manslaughter  1960   \n",
       "1289  California  Violent Crime  Murder and nonnegligent Manslaughter  1961   \n",
       "1290  California  Violent Crime  Murder and nonnegligent Manslaughter  1962   \n",
       "1291  California  Violent Crime  Murder and nonnegligent Manslaughter  1963   \n",
       "1292  California  Violent Crime  Murder and nonnegligent Manslaughter  1964   \n",
       "...          ...            ...                                   ...   ...   \n",
       "1329  California  Violent Crime  Murder and nonnegligent Manslaughter  2001   \n",
       "1330  California  Violent Crime  Murder and nonnegligent Manslaughter  2002   \n",
       "1331  California  Violent Crime  Murder and nonnegligent Manslaughter  2003   \n",
       "1332  California  Violent Crime  Murder and nonnegligent Manslaughter  2004   \n",
       "1333  California  Violent Crime  Murder and nonnegligent Manslaughter  2005   \n",
       "\n",
       "      Count  \n",
       "1288    616  \n",
       "1289    605  \n",
       "1290    657  \n",
       "1291    673  \n",
       "1292    740  \n",
       "...     ...  \n",
       "1329   2206  \n",
       "1330   2395  \n",
       "1331   2407  \n",
       "1332   2392  \n",
       "1333   2503  \n",
       "\n",
       "[46 rows x 5 columns]"
      ]
     },
     "execution_count": 20,
     "metadata": {},
     "output_type": "execute_result"
    }
   ],
   "source": [
    "cal_murder"
   ]
  },
  {
   "cell_type": "code",
   "execution_count": 21,
   "metadata": {
    "collapsed": false
   },
   "outputs": [
    {
     "data": {
      "text/plain": [
       "<matplotlib.axes._subplots.AxesSubplot at 0x7f97ed0a8710>"
      ]
     },
     "execution_count": 21,
     "metadata": {},
     "output_type": "execute_result"
    },
    {
     "data": {
      "image/png": "[encoded data removed]",
      "text/plain": [
       "<matplotlib.figure.Figure at 0x7f97ed0a89d0>"
      ]
     },
     "metadata": {},
     "output_type": "display_data"
    }
   ],
   "source": [
    "# plot data\n",
    "cal_murder.plot(x='Year', y='Count')"
   ]
  },
  {
   "cell_type": "code",
   "execution_count": null,
   "metadata": {
    "collapsed": true
   },
   "outputs": [],
   "source": []
  }
 ],
 "metadata": {
  "kernelspec": {
   "display_name": "Python 2",
   "language": "python",
   "name": "python2"
  },
  "language_info": {
   "codemirror_mode": {
    "name": "ipython",
    "version": 2
   },
   "file_extension": ".py",
   "mimetype": "text/x-python",
   "name": "python",
   "nbconvert_exporter": "python",
   "pygments_lexer": "ipython2",
   "version": "2.7.6"
  }
 },
 "nbformat": 4,
 "nbformat_minor": 1
}
