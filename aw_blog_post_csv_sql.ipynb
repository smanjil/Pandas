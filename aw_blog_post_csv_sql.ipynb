{
 "cells": [
  {
   "cell_type": "code",
   "execution_count": 3,
   "metadata": {
    "collapsed": true
   },
   "outputs": [],
   "source": [
    "import pandas as pd"
   ]
  },
  {
   "cell_type": "code",
   "execution_count": 4,
   "metadata": {
    "collapsed": false
   },
   "outputs": [
    {
     "data": {
      "text/plain": [
       "Index([u'post_id', u'title', u'url_key', u'filename', u'post_content',\n",
       "       u'status', u'created_time', u'update_time', u'identifier', u'user',\n",
       "       u'update_user', u'meta_keywords', u'meta_description', u'comments',\n",
       "       u'tags', u'short_content', u'query'],\n",
       "      dtype='object')"
      ]
     },
     "execution_count": 4,
     "metadata": {},
     "output_type": "execute_result"
    }
   ],
   "source": [
    "df = pd.read_csv('/home/manshrestha/Downloads/aw_blog.csv').fillna('')\n",
    "df.columns"
   ]
  },
  {
   "cell_type": "code",
   "execution_count": 5,
   "metadata": {
    "collapsed": false
   },
   "outputs": [],
   "source": [
    "excludes = ['post_id', 'status', 'comments']"
   ]
  },
  {
   "cell_type": "code",
   "execution_count": 6,
   "metadata": {
    "collapsed": true
   },
   "outputs": [],
   "source": [
    "required_cols = ['id', 'title', 'url_key', 'short_content', 'content', 'author_name', 'status' \\\n",
    "                    'created_at', 'updated_at', 'publish_at', 'is_allow_comments', 'meta_title', \\\n",
    "                        'meta_description', 'product_condition'] "
   ]
  },
  {
   "cell_type": "code",
   "execution_count": 7,
   "metadata": {
    "collapsed": true
   },
   "outputs": [],
   "source": [
    "res_df = pd.DataFrame()"
   ]
  },
  {
   "cell_type": "code",
   "execution_count": 8,
   "metadata": {
    "collapsed": true
   },
   "outputs": [],
   "source": [
    "res_df['id'] = df['post_id']"
   ]
  },
  {
   "cell_type": "code",
   "execution_count": 9,
   "metadata": {
    "collapsed": false
   },
   "outputs": [],
   "source": [
    "res_df['title'] = ['\"' + str(titles) + '\"' for titles in df['title']]"
   ]
  },
  {
   "cell_type": "code",
   "execution_count": 10,
   "metadata": {
    "collapsed": true
   },
   "outputs": [],
   "source": [
    "res_df['url_key'] = ['\"' + str(idents) + '\"' for idents in df['identifier']]"
   ]
  },
  {
   "cell_type": "code",
   "execution_count": 11,
   "metadata": {
    "collapsed": true
   },
   "outputs": [],
   "source": [
    "res_df['short_content'] = ['\"' + str(sc) + '\"' for sc in df['short_content']]"
   ]
  },
  {
   "cell_type": "code",
   "execution_count": 12,
   "metadata": {
    "collapsed": false
   },
   "outputs": [],
   "source": [
    "res_df['content'] = ['\"' + pc.replace('\"', '\\\"')  + '\"' if '\"' in pc else '\"' + str(pc) + '\"' \\\n",
    "                         for pc in df['post_content']]"
   ]
  },
  {
   "cell_type": "code",
   "execution_count": 13,
   "metadata": {
    "collapsed": true
   },
   "outputs": [],
   "source": [
    "res_df['author_name'] = ['\"' + str(users) + '\"' for users in df['user']]"
   ]
  },
  {
   "cell_type": "code",
   "execution_count": 14,
   "metadata": {
    "collapsed": false
   },
   "outputs": [],
   "source": [
    "res_df['status'] = ['\"publication\"' if stats == 1 else '\"draft\"' for stats in df['status']]"
   ]
  },
  {
   "cell_type": "code",
   "execution_count": 15,
   "metadata": {
    "collapsed": true
   },
   "outputs": [],
   "source": [
    "res_df['created_at'] = ['\"' + str(ct) + '\"' for ct in df['created_time']]"
   ]
  },
  {
   "cell_type": "code",
   "execution_count": 16,
   "metadata": {
    "collapsed": true
   },
   "outputs": [],
   "source": [
    "res_df['updated_at'] = ['\"' + str(ut) + '\"' for ut in df['update_time']]"
   ]
  },
  {
   "cell_type": "code",
   "execution_count": 17,
   "metadata": {
    "collapsed": false
   },
   "outputs": [],
   "source": [
    "res_df['publish_at'] = ['\"' + str(ct) + '\"' for ct in df['created_time']]"
   ]
  },
  {
   "cell_type": "code",
   "execution_count": 18,
   "metadata": {
    "collapsed": true
   },
   "outputs": [],
   "source": [
    "res_df['is_allow_comments'] = df['comments']"
   ]
  },
  {
   "cell_type": "code",
   "execution_count": 19,
   "metadata": {
    "collapsed": true
   },
   "outputs": [],
   "source": [
    "res_df['meta_title'] = ['\"' + str(titles) + '\"' for titles in df['title']]"
   ]
  },
  {
   "cell_type": "code",
   "execution_count": 20,
   "metadata": {
    "collapsed": true
   },
   "outputs": [],
   "source": [
    "res_df['meta_description'] = ['\"' + str(titles) + '\"' for titles in df['title']]"
   ]
  },
  {
   "cell_type": "code",
   "execution_count": 21,
   "metadata": {
    "collapsed": true
   },
   "outputs": [],
   "source": [
    "res_df['product_condition'] = '\"\"'"
   ]
  },
  {
   "cell_type": "code",
   "execution_count": 22,
   "metadata": {
    "collapsed": false
   },
   "outputs": [
    {
     "data": {
      "text/html": [
       "<div>\n",
       "<table border=\"1\" class=\"dataframe\">\n",
       "  <thead>\n",
       "    <tr style=\"text-align: right;\">\n",
       "      <th></th>\n",
       "      <th>id</th>\n",
       "      <th>title</th>\n",
       "      <th>url_key</th>\n",
       "      <th>short_content</th>\n",
       "      <th>content</th>\n",
       "      <th>author_name</th>\n",
       "      <th>status</th>\n",
       "      <th>created_at</th>\n",
       "      <th>updated_at</th>\n",
       "      <th>publish_at</th>\n",
       "      <th>is_allow_comments</th>\n",
       "      <th>meta_title</th>\n",
       "      <th>meta_description</th>\n",
       "      <th>product_condition</th>\n",
       "    </tr>\n",
       "  </thead>\n",
       "  <tbody>\n",
       "    <tr>\n",
       "      <th>0</th>\n",
       "      <td>1</td>\n",
       "      <td>\"Book Signing \"</td>\n",
       "      <td>\"must-have-magento-extensions\"</td>\n",
       "      <td>\"Book Signing of Ones Man's Folly \"</td>\n",
       "      <td>\"Join us for a book signing of One Man's Folly...</td>\n",
       "      <td>\"BRAD WEITZ\"</td>\n",
       "      <td>\"draft\"</td>\n",
       "      <td>\"2014-09-25 19:28:00\"</td>\n",
       "      <td>\"2014-10-07 20:21:12\"</td>\n",
       "      <td>\"2014-09-25 19:28:00\"</td>\n",
       "      <td>1</td>\n",
       "      <td>\"Book Signing \"</td>\n",
       "      <td>\"Book Signing \"</td>\n",
       "      <td>\"\"</td>\n",
       "    </tr>\n",
       "    <tr>\n",
       "      <th>1</th>\n",
       "      <td>3</td>\n",
       "      <td>\"Charlotte October Events \"</td>\n",
       "      <td>\"sidewallk0\"</td>\n",
       "      <td>\"\"</td>\n",
       "      <td>\"October 22, 2014 Paint &amp; Sip with Michele Har...</td>\n",
       "      <td>\"joshua li\"</td>\n",
       "      <td>\"draft\"</td>\n",
       "      <td>\"2014-09-03 13:41:00\"</td>\n",
       "      <td>\"2014-10-10 19:37:58\"</td>\n",
       "      <td>\"2014-09-03 13:41:00\"</td>\n",
       "      <td>1</td>\n",
       "      <td>\"Charlotte October Events \"</td>\n",
       "      <td>\"Charlotte October Events \"</td>\n",
       "      <td>\"\"</td>\n",
       "    </tr>\n",
       "  </tbody>\n",
       "</table>\n",
       "</div>"
      ],
      "text/plain": [
       "   id                        title                         url_key  \\\n",
       "0   1              \"Book Signing \"  \"must-have-magento-extensions\"   \n",
       "1   3  \"Charlotte October Events \"                    \"sidewallk0\"   \n",
       "\n",
       "                         short_content  \\\n",
       "0  \"Book Signing of Ones Man's Folly \"   \n",
       "1                                   \"\"   \n",
       "\n",
       "                                             content   author_name   status  \\\n",
       "0  \"Join us for a book signing of One Man's Folly...  \"BRAD WEITZ\"  \"draft\"   \n",
       "1  \"October 22, 2014 Paint & Sip with Michele Har...   \"joshua li\"  \"draft\"   \n",
       "\n",
       "              created_at             updated_at             publish_at  \\\n",
       "0  \"2014-09-25 19:28:00\"  \"2014-10-07 20:21:12\"  \"2014-09-25 19:28:00\"   \n",
       "1  \"2014-09-03 13:41:00\"  \"2014-10-10 19:37:58\"  \"2014-09-03 13:41:00\"   \n",
       "\n",
       "   is_allow_comments                   meta_title  \\\n",
       "0                  1              \"Book Signing \"   \n",
       "1                  1  \"Charlotte October Events \"   \n",
       "\n",
       "              meta_description product_condition  \n",
       "0              \"Book Signing \"                \"\"  \n",
       "1  \"Charlotte October Events \"                \"\"  "
      ]
     },
     "execution_count": 22,
     "metadata": {},
     "output_type": "execute_result"
    }
   ],
   "source": [
    "res_df.head(2)"
   ]
  },
  {
   "cell_type": "code",
   "execution_count": 39,
   "metadata": {
    "collapsed": false
   },
   "outputs": [],
   "source": [
    "def create_query(val):\n",
    "    query = \"insert into aw_blog_post values({0}, {1}, {2}, {3}, {4}, {5}, {6}, {7}, {8}, {9}, {10}, {11}, {12}, {13})\" \\\n",
    "                .format(val.id, val.title, val.url_key, val.short_content, val.content, val.author_name, val.status, \\\n",
    "                    val.created_at, val.updated_at, val.publish_at, val.is_allow_comments, val.meta_title, \\\n",
    "                        val.meta_description, val.product_condition)\n",
    "    return query\n",
    "\n",
    "\n",
    "res_df['query'] = res_df.apply(create_query, axis=1)"
   ]
  },
  {
   "cell_type": "code",
   "execution_count": 41,
   "metadata": {
    "collapsed": false
   },
   "outputs": [
    {
     "data": {
      "text/html": [
       "<div>\n",
       "<table border=\"1\" class=\"dataframe\">\n",
       "  <thead>\n",
       "    <tr style=\"text-align: right;\">\n",
       "      <th></th>\n",
       "      <th>id</th>\n",
       "      <th>title</th>\n",
       "      <th>url_key</th>\n",
       "      <th>short_content</th>\n",
       "      <th>content</th>\n",
       "      <th>author_name</th>\n",
       "      <th>status</th>\n",
       "      <th>created_at</th>\n",
       "      <th>updated_at</th>\n",
       "      <th>publish_at</th>\n",
       "      <th>is_allow_comments</th>\n",
       "      <th>meta_title</th>\n",
       "      <th>meta_description</th>\n",
       "      <th>product_condition</th>\n",
       "      <th>query</th>\n",
       "    </tr>\n",
       "  </thead>\n",
       "  <tbody>\n",
       "    <tr>\n",
       "      <th>0</th>\n",
       "      <td>1</td>\n",
       "      <td>\"Book Signing \"</td>\n",
       "      <td>\"must-have-magento-extensions\"</td>\n",
       "      <td>\"Book Signing of Ones Man's Folly \"</td>\n",
       "      <td>\"Join us for a book signing of One Man's Folly...</td>\n",
       "      <td>\"BRAD WEITZ\"</td>\n",
       "      <td>\"draft\"</td>\n",
       "      <td>\"2014-09-25 19:28:00\"</td>\n",
       "      <td>\"2014-10-07 20:21:12\"</td>\n",
       "      <td>\"2014-09-25 19:28:00\"</td>\n",
       "      <td>1</td>\n",
       "      <td>\"Book Signing \"</td>\n",
       "      <td>\"Book Signing \"</td>\n",
       "      <td>\"\"</td>\n",
       "      <td>insert into aw_blog_post values(1, \"Book Signi...</td>\n",
       "    </tr>\n",
       "    <tr>\n",
       "      <th>1</th>\n",
       "      <td>3</td>\n",
       "      <td>\"Charlotte October Events \"</td>\n",
       "      <td>\"sidewallk0\"</td>\n",
       "      <td>\"\"</td>\n",
       "      <td>\"October 22, 2014 Paint &amp; Sip with Michele Har...</td>\n",
       "      <td>\"joshua li\"</td>\n",
       "      <td>\"draft\"</td>\n",
       "      <td>\"2014-09-03 13:41:00\"</td>\n",
       "      <td>\"2014-10-10 19:37:58\"</td>\n",
       "      <td>\"2014-09-03 13:41:00\"</td>\n",
       "      <td>1</td>\n",
       "      <td>\"Charlotte October Events \"</td>\n",
       "      <td>\"Charlotte October Events \"</td>\n",
       "      <td>\"\"</td>\n",
       "      <td>insert into aw_blog_post values(3, \"Charlotte ...</td>\n",
       "    </tr>\n",
       "    <tr>\n",
       "      <th>2</th>\n",
       "      <td>4</td>\n",
       "      <td>\"Atlanta October Events \"</td>\n",
       "      <td>\"slidewalk2\"</td>\n",
       "      <td>\"\"</td>\n",
       "      <td>\"October 24th &amp; 25th Arts Show featuring Kitty...</td>\n",
       "      <td>\"joshua li\"</td>\n",
       "      <td>\"draft\"</td>\n",
       "      <td>\"2014-09-04 13:42:00\"</td>\n",
       "      <td>\"2014-10-10 19:37:42\"</td>\n",
       "      <td>\"2014-09-04 13:42:00\"</td>\n",
       "      <td>1</td>\n",
       "      <td>\"Atlanta October Events \"</td>\n",
       "      <td>\"Atlanta October Events \"</td>\n",
       "      <td>\"\"</td>\n",
       "      <td>insert into aw_blog_post values(4, \"Atlanta Oc...</td>\n",
       "    </tr>\n",
       "    <tr>\n",
       "      <th>3</th>\n",
       "      <td>5</td>\n",
       "      <td>\"Book Signing \"</td>\n",
       "      <td>\"sidewalk1\"</td>\n",
       "      <td>\"Book Sighing of One Man's Folly with Furlow G...</td>\n",
       "      <td>\"Book Sighing of One Man's Folly with Furlow G...</td>\n",
       "      <td>\"joshua li\"</td>\n",
       "      <td>\"publication\"</td>\n",
       "      <td>\"2014-09-19 12:20:00\"</td>\n",
       "      <td>\"2014-09-19 16:52:48\"</td>\n",
       "      <td>\"2014-09-19 12:20:00\"</td>\n",
       "      <td>0</td>\n",
       "      <td>\"Book Signing \"</td>\n",
       "      <td>\"Book Signing \"</td>\n",
       "      <td>\"\"</td>\n",
       "      <td>insert into aw_blog_post values(5, \"Book Signi...</td>\n",
       "    </tr>\n",
       "    <tr>\n",
       "      <th>4</th>\n",
       "      <td>6</td>\n",
       "      <td>\"Fall Fashion Trunk Show \"</td>\n",
       "      <td>\"sidewalk\"</td>\n",
       "      <td>\"Fall Fashion Trunk Show \"</td>\n",
       "      <td>\"Fall Fashion Trunk Featuring GiGi New York , ...</td>\n",
       "      <td>\"joshua li\"</td>\n",
       "      <td>\"publication\"</td>\n",
       "      <td>\"2014-09-01 13:44:00\"</td>\n",
       "      <td>\"2014-09-19 18:04:22\"</td>\n",
       "      <td>\"2014-09-01 13:44:00\"</td>\n",
       "      <td>1</td>\n",
       "      <td>\"Fall Fashion Trunk Show \"</td>\n",
       "      <td>\"Fall Fashion Trunk Show \"</td>\n",
       "      <td>\"\"</td>\n",
       "      <td>insert into aw_blog_post values(6, \"Fall Fashi...</td>\n",
       "    </tr>\n",
       "  </tbody>\n",
       "</table>\n",
       "</div>"
      ],
      "text/plain": [
       "   id                        title                         url_key  \\\n",
       "0   1              \"Book Signing \"  \"must-have-magento-extensions\"   \n",
       "1   3  \"Charlotte October Events \"                    \"sidewallk0\"   \n",
       "2   4    \"Atlanta October Events \"                    \"slidewalk2\"   \n",
       "3   5              \"Book Signing \"                     \"sidewalk1\"   \n",
       "4   6   \"Fall Fashion Trunk Show \"                      \"sidewalk\"   \n",
       "\n",
       "                                       short_content  \\\n",
       "0                \"Book Signing of Ones Man's Folly \"   \n",
       "1                                                 \"\"   \n",
       "2                                                 \"\"   \n",
       "3  \"Book Sighing of One Man's Folly with Furlow G...   \n",
       "4                         \"Fall Fashion Trunk Show \"   \n",
       "\n",
       "                                             content   author_name  \\\n",
       "0  \"Join us for a book signing of One Man's Folly...  \"BRAD WEITZ\"   \n",
       "1  \"October 22, 2014 Paint & Sip with Michele Har...   \"joshua li\"   \n",
       "2  \"October 24th & 25th Arts Show featuring Kitty...   \"joshua li\"   \n",
       "3  \"Book Sighing of One Man's Folly with Furlow G...   \"joshua li\"   \n",
       "4  \"Fall Fashion Trunk Featuring GiGi New York , ...   \"joshua li\"   \n",
       "\n",
       "          status             created_at             updated_at  \\\n",
       "0        \"draft\"  \"2014-09-25 19:28:00\"  \"2014-10-07 20:21:12\"   \n",
       "1        \"draft\"  \"2014-09-03 13:41:00\"  \"2014-10-10 19:37:58\"   \n",
       "2        \"draft\"  \"2014-09-04 13:42:00\"  \"2014-10-10 19:37:42\"   \n",
       "3  \"publication\"  \"2014-09-19 12:20:00\"  \"2014-09-19 16:52:48\"   \n",
       "4  \"publication\"  \"2014-09-01 13:44:00\"  \"2014-09-19 18:04:22\"   \n",
       "\n",
       "              publish_at  is_allow_comments                   meta_title  \\\n",
       "0  \"2014-09-25 19:28:00\"                  1              \"Book Signing \"   \n",
       "1  \"2014-09-03 13:41:00\"                  1  \"Charlotte October Events \"   \n",
       "2  \"2014-09-04 13:42:00\"                  1    \"Atlanta October Events \"   \n",
       "3  \"2014-09-19 12:20:00\"                  0              \"Book Signing \"   \n",
       "4  \"2014-09-01 13:44:00\"                  1   \"Fall Fashion Trunk Show \"   \n",
       "\n",
       "              meta_description product_condition  \\\n",
       "0              \"Book Signing \"                \"\"   \n",
       "1  \"Charlotte October Events \"                \"\"   \n",
       "2    \"Atlanta October Events \"                \"\"   \n",
       "3              \"Book Signing \"                \"\"   \n",
       "4   \"Fall Fashion Trunk Show \"                \"\"   \n",
       "\n",
       "                                               query  \n",
       "0  insert into aw_blog_post values(1, \"Book Signi...  \n",
       "1  insert into aw_blog_post values(3, \"Charlotte ...  \n",
       "2  insert into aw_blog_post values(4, \"Atlanta Oc...  \n",
       "3  insert into aw_blog_post values(5, \"Book Signi...  \n",
       "4  insert into aw_blog_post values(6, \"Fall Fashi...  "
      ]
     },
     "execution_count": 41,
     "metadata": {},
     "output_type": "execute_result"
    }
   ],
   "source": [
    "res_df.head()"
   ]
  },
  {
   "cell_type": "code",
   "execution_count": 42,
   "metadata": {
    "collapsed": true
   },
   "outputs": [],
   "source": [
    "res_df.to_csv('blog_post.csv', index=False)"
   ]
  },
  {
   "cell_type": "code",
   "execution_count": null,
   "metadata": {
    "collapsed": true
   },
   "outputs": [],
   "source": []
  }
 ],
 "metadata": {
  "kernelspec": {
   "display_name": "Python 2",
   "language": "python",
   "name": "python2"
  },
  "language_info": {
   "codemirror_mode": {
    "name": "ipython",
    "version": 2
   },
   "file_extension": ".py",
   "mimetype": "text/x-python",
   "name": "python",
   "nbconvert_exporter": "python",
   "pygments_lexer": "ipython2",
   "version": "2.7.12"
  }
 },
 "nbformat": 4,
 "nbformat_minor": 2
}
