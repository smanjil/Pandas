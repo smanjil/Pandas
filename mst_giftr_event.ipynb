{
 "cells": [
  {
   "cell_type": "code",
   "execution_count": 1,
   "metadata": {
    "collapsed": true
   },
   "outputs": [],
   "source": [
    "import pandas as pd"
   ]
  },
  {
   "cell_type": "code",
   "execution_count": 6,
   "metadata": {},
   "outputs": [],
   "source": [
    "giftr_event_df = pd.read_csv('/home/manshrestha/bdjeffries/work/gift-registries/adjgiftreg_event.csv').fillna('')"
   ]
  },
  {
   "cell_type": "code",
   "execution_count": 7,
   "metadata": {},
   "outputs": [
    {
     "data": {
      "text/plain": [
       "Index([u'event_id', u'customer_id', u'address_id', u'type_id', u'status',\n",
       "       u'sharing_code', u'date', u'search_allowed', u'pass', u'title',\n",
       "       u'fname', u'lname', u'fname2', u'lname2', u'emails', u'sql'],\n",
       "      dtype='object')"
      ]
     },
     "execution_count": 7,
     "metadata": {},
     "output_type": "execute_result"
    }
   ],
   "source": [
    "giftr_event_df.columns"
   ]
  },
  {
   "cell_type": "code",
   "execution_count": 8,
   "metadata": {
    "collapsed": true
   },
   "outputs": [],
   "source": [
    "res_head = \"insert into mst_giftr_registry values (\"\n",
    "res_tail = \");\""
   ]
  },
  {
   "cell_type": "code",
   "execution_count": 14,
   "metadata": {},
   "outputs": [],
   "source": [
    "def process(val):\n",
    "    is_active = '1' if val[9] == 'active' else '0'\n",
    "    res = '{}{}{}{}{}{}{}{}{}{}{}{}{}{}{}{}{}{}{}{}{}{}{}{}' .format(\n",
    "            res_head, \n",
    "            val[0], \n",
    "            \",\" + \"'\" + str(val[9]) + \"'\",\n",
    "            \",\" + is_active, \n",
    "            \",\" + str(val[7]),\n",
    "            \",\" + \"'\" + str(val[5]) + \"'\",\n",
    "            \",\" + \"''\",\n",
    "            \",\" + str(val[3]),\n",
    "            \",\" + \"'\" + val[10] + \"'\",\n",
    "            \",\" + \"''\",\n",
    "            \",\" + \"'\" + val[11] + \"'\",\n",
    "            \",\" + \"'\" + val[14] + \"'\",\n",
    "            \",\" + \"'\" + val[12] + \"'\",\n",
    "            \",\" + \"''\",\n",
    "            \",\" + \"'\" + val[13] + \"'\",\n",
    "            \",\" + \"''\",\n",
    "            \",\" + \"'\" + val[6] + \"'\",\n",
    "            \",\" + \"''\",\n",
    "            \",\" + \"''\",\n",
    "            \",\" + \"''\",\n",
    "            \",\" + str(val[2]),\n",
    "            \",\" + \"'\" + val[8] + \"'\",\n",
    "            \",\" + \"CURRENT_TIMESTAMP\",\n",
    "            \",\" + \"CURRENT_TIMESTAMP\",\n",
    "            res_tail\n",
    "        )\n",
    "    return res\n",
    "\n",
    "giftr_event_df['res'] = giftr_event_df.apply(process, axis=1)"
   ]
  },
  {
   "cell_type": "code",
   "execution_count": 16,
   "metadata": {},
   "outputs": [],
   "source": [
    "giftr_event_df['res'].to_csv('mst_giftr_event.csv', index=False)"
   ]
  },
  {
   "cell_type": "code",
   "execution_count": null,
   "metadata": {
    "collapsed": true
   },
   "outputs": [],
   "source": []
  }
 ],
 "metadata": {
  "kernelspec": {
   "display_name": "Python 2",
   "language": "python",
   "name": "python2"
  },
  "language_info": {
   "codemirror_mode": {
    "name": "ipython",
    "version": 2
   },
   "file_extension": ".py",
   "mimetype": "text/x-python",
   "name": "python",
   "nbconvert_exporter": "python",
   "pygments_lexer": "ipython2",
   "version": "2.7.12"
  }
 },
 "nbformat": 4,
 "nbformat_minor": 2
}
