{
 "cells": [
  {
   "cell_type": "code",
   "execution_count": 1,
   "metadata": {
    "collapsed": true
   },
   "outputs": [],
   "source": [
    "import pandas as pd\n"
   ]
  },
  {
   "cell_type": "code",
   "execution_count": 27,
   "metadata": {
    "collapsed": true
   },
   "outputs": [],
   "source": [
    "giftr_item_df = pd.read_csv('adjgiftreg_item.csv').fillna('')"
   ]
  },
  {
   "cell_type": "code",
   "execution_count": 28,
   "metadata": {},
   "outputs": [
    {
     "data": {
      "text/plain": [
       "Index([u'item_id', u'event_id', u'product_id', u'store_id', u'hide',\n",
       "       u'num_has', u'num_wants', u'priority', u'added_at', u'descr',\n",
       "       u'buy_request', u'sku_product_id', u'num_total', u'num_user_set'],\n",
       "      dtype='object')"
      ]
     },
     "execution_count": 28,
     "metadata": {},
     "output_type": "execute_result"
    }
   ],
   "source": [
    "giftr_item_df.columns"
   ]
  },
  {
   "cell_type": "code",
   "execution_count": 29,
   "metadata": {
    "collapsed": true
   },
   "outputs": [],
   "source": [
    "res_head = \"insert into mst_giftr_item values (\"\n",
    "res_tail = \");\""
   ]
  },
  {
   "cell_type": "code",
   "execution_count": 36,
   "metadata": {},
   "outputs": [],
   "source": [
    "def process(val):\n",
    "    res = '{}{}{}{}{}{}{}{}{}{}{}{}{}' .format(\n",
    "            res_head, \n",
    "            val[0], \n",
    "            \",\" + str(val[1]),\n",
    "            \",\" + str(val[2]), \n",
    "            \",\" + str(val[7]),\n",
    "            \",\" + str(val[6]),\n",
    "            \",\" + str(val[6]),\n",
    "            \",\" + str(val[5]),\n",
    "            \",\" + \"'\" + val[9] + \"'\",\n",
    "            \",\" + \"'\" + val[8] + \"'\",\n",
    "            \",\" + \"CURRENT_TIMESTAMP\",\n",
    "            \",\" + str(val[3]),\n",
    "            res_tail\n",
    "        )\n",
    "    return res\n",
    "\n",
    "giftr_item_df['res'] = giftr_item_df.apply(process, axis=1)"
   ]
  },
  {
   "cell_type": "code",
   "execution_count": 38,
   "metadata": {},
   "outputs": [],
   "source": [
    "giftr_item_df['res'].to_csv('mst_giftr_item.csv', index=False)"
   ]
  },
  {
   "cell_type": "code",
   "execution_count": null,
   "metadata": {
    "collapsed": true
   },
   "outputs": [],
   "source": []
  }
 ],
 "metadata": {
  "kernelspec": {
   "display_name": "Python 2",
   "language": "python",
   "name": "python2"
  },
  "language_info": {
   "codemirror_mode": {
    "name": "ipython",
    "version": 2
   },
   "file_extension": ".py",
   "mimetype": "text/x-python",
   "name": "python",
   "nbconvert_exporter": "python",
   "pygments_lexer": "ipython2",
   "version": "2.7.12"
  }
 },
 "nbformat": 4,
 "nbformat_minor": 2
}
